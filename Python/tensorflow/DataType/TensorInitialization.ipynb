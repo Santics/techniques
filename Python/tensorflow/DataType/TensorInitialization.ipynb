{
 "cells": [
  {
   "cell_type": "code",
   "execution_count": 2,
   "id": "b5eb3e70",
   "metadata": {},
   "outputs": [],
   "source": [
    "import numpy as np\n",
    "import tensorflow as tf"
   ]
  },
  {
   "cell_type": "code",
   "execution_count": 10,
   "id": "937d8870",
   "metadata": {},
   "outputs": [
    {
     "data": {
      "text/plain": [
       "<tf.Tensor: shape=(3, 5), dtype=float64, numpy=\n",
       "array([[1., 1., 1., 1., 1.],\n",
       "       [1., 1., 1., 1., 1.],\n",
       "       [1., 1., 1., 1., 1.]])>"
      ]
     },
     "execution_count": 10,
     "metadata": {},
     "output_type": "execute_result"
    }
   ],
   "source": [
    "tf.convert_to_tensor(np.ones([3,5]))"
   ]
  },
  {
   "cell_type": "code",
   "execution_count": 11,
   "id": "8d5572b9",
   "metadata": {},
   "outputs": [
    {
     "data": {
      "text/plain": [
       "<tf.Tensor: shape=(3, 6), dtype=float64, numpy=\n",
       "array([[0., 0., 0., 0., 0., 0.],\n",
       "       [0., 0., 0., 0., 0., 0.],\n",
       "       [0., 0., 0., 0., 0., 0.]])>"
      ]
     },
     "execution_count": 11,
     "metadata": {},
     "output_type": "execute_result"
    }
   ],
   "source": [
    "tf.convert_to_tensor(np.zeros([3,6]))"
   ]
  },
  {
   "cell_type": "code",
   "execution_count": 13,
   "id": "4e001460",
   "metadata": {},
   "outputs": [
    {
     "data": {
      "text/plain": [
       "<tf.Tensor: shape=(4,), dtype=int32, numpy=array([ 1,  3, 42,  3])>"
      ]
     },
     "execution_count": 13,
     "metadata": {},
     "output_type": "execute_result"
    }
   ],
   "source": [
    "tf.convert_to_tensor([1,3,42,3])"
   ]
  },
  {
   "cell_type": "code",
   "execution_count": 15,
   "id": "d4001cae",
   "metadata": {},
   "outputs": [
    {
     "data": {
      "text/plain": [
       "<tf.Tensor: shape=(2, 1), dtype=float32, numpy=\n",
       "array([[2.],\n",
       "       [5.]], dtype=float32)>"
      ]
     },
     "execution_count": 15,
     "metadata": {},
     "output_type": "execute_result"
    }
   ],
   "source": [
    "tf.convert_to_tensor([[2],[5.]])"
   ]
  },
  {
   "cell_type": "code",
   "execution_count": 21,
   "id": "a05396e5",
   "metadata": {},
   "outputs": [
    {
     "data": {
      "text/plain": [
       "<tf.Tensor: shape=(), dtype=float32, numpy=0.0>"
      ]
     },
     "execution_count": 21,
     "metadata": {},
     "output_type": "execute_result"
    }
   ],
   "source": [
    "tf.zeros([]) #scalar"
   ]
  },
  {
   "cell_type": "code",
   "execution_count": 22,
   "id": "0ad3827a",
   "metadata": {},
   "outputs": [
    {
     "data": {
      "text/plain": [
       "<tf.Tensor: shape=(1,), dtype=float32, numpy=array([0.], dtype=float32)>"
      ]
     },
     "execution_count": 22,
     "metadata": {},
     "output_type": "execute_result"
    }
   ],
   "source": [
    "tf.zeros([1])"
   ]
  },
  {
   "cell_type": "code",
   "execution_count": 29,
   "id": "9527b812",
   "metadata": {},
   "outputs": [
    {
     "data": {
      "text/plain": [
       "<tf.Tensor: shape=(2, 3, 3), dtype=float32, numpy=\n",
       "array([[[0., 0., 0.],\n",
       "        [0., 0., 0.],\n",
       "        [0., 0., 0.]],\n",
       "\n",
       "       [[0., 0., 0.],\n",
       "        [0., 0., 0.],\n",
       "        [0., 0., 0.]]], dtype=float32)>"
      ]
     },
     "execution_count": 29,
     "metadata": {},
     "output_type": "execute_result"
    }
   ],
   "source": [
    "tf.zeros([2,3,3])"
   ]
  },
  {
   "cell_type": "code",
   "execution_count": 32,
   "id": "bea95724",
   "metadata": {},
   "outputs": [
    {
     "data": {
      "text/plain": [
       "<tf.Tensor: shape=(1,), dtype=int32, numpy=array([0])>"
      ]
     },
     "execution_count": 32,
     "metadata": {},
     "output_type": "execute_result"
    }
   ],
   "source": [
    "a = tf.constant([0])\n",
    "tf.zeros_like(a) #tf.zeros(a.shape)"
   ]
  },
  {
   "cell_type": "code",
   "execution_count": 35,
   "id": "ebddd815",
   "metadata": {},
   "outputs": [
    {
     "data": {
      "text/plain": [
       "<tf.Tensor: shape=(), dtype=float32, numpy=1.0>"
      ]
     },
     "execution_count": 35,
     "metadata": {},
     "output_type": "execute_result"
    }
   ],
   "source": [
    "tf.ones([]) #scalar"
   ]
  },
  {
   "cell_type": "code",
   "execution_count": 36,
   "id": "482669f6",
   "metadata": {},
   "outputs": [
    {
     "data": {
      "text/plain": [
       "<tf.Tensor: shape=(1,), dtype=float32, numpy=array([1.], dtype=float32)>"
      ]
     },
     "execution_count": 36,
     "metadata": {},
     "output_type": "execute_result"
    }
   ],
   "source": [
    "tf.ones(1)"
   ]
  },
  {
   "cell_type": "code",
   "execution_count": 37,
   "id": "fff91e36",
   "metadata": {},
   "outputs": [
    {
     "data": {
      "text/plain": [
       "<tf.Tensor: shape=(2, 3, 3), dtype=float32, numpy=\n",
       "array([[[1., 1., 1.],\n",
       "        [1., 1., 1.],\n",
       "        [1., 1., 1.]],\n",
       "\n",
       "       [[1., 1., 1.],\n",
       "        [1., 1., 1.],\n",
       "        [1., 1., 1.]]], dtype=float32)>"
      ]
     },
     "execution_count": 37,
     "metadata": {},
     "output_type": "execute_result"
    }
   ],
   "source": [
    "tf.ones([2,3,3])"
   ]
  },
  {
   "cell_type": "code",
   "execution_count": 38,
   "id": "75900a1d",
   "metadata": {},
   "outputs": [
    {
     "data": {
      "text/plain": [
       "<tf.Tensor: shape=(1,), dtype=int32, numpy=array([1])>"
      ]
     },
     "execution_count": 38,
     "metadata": {},
     "output_type": "execute_result"
    }
   ],
   "source": [
    "a = tf.constant([0])\n",
    "tf.ones_like(a) #tf.ones(a.shape)"
   ]
  },
  {
   "cell_type": "code",
   "execution_count": 40,
   "id": "9a5ab40b",
   "metadata": {},
   "outputs": [
    {
     "data": {
      "text/plain": [
       "<tf.Tensor: shape=(2, 2), dtype=float32, numpy=\n",
       "array([[0.97, 0.97],\n",
       "       [0.97, 0.97]], dtype=float32)>"
      ]
     },
     "execution_count": 40,
     "metadata": {},
     "output_type": "execute_result"
    }
   ],
   "source": [
    "tf.fill([2,2],0.97)"
   ]
  },
  {
   "cell_type": "code",
   "execution_count": 43,
   "id": "aa999e51",
   "metadata": {},
   "outputs": [
    {
     "data": {
      "text/plain": [
       "<tf.Tensor: shape=(2, 2), dtype=float32, numpy=\n",
       "array([[2.4695172 , 1.5539489 ],\n",
       "       [1.4429681 , 0.66056716]], dtype=float32)>"
      ]
     },
     "execution_count": 43,
     "metadata": {},
     "output_type": "execute_result"
    }
   ],
   "source": [
    "#Gaussian Distribution\n",
    "tf.random.normal([2,2],mean = 1, stddev = 1)"
   ]
  },
  {
   "cell_type": "code",
   "execution_count": 44,
   "id": "01a4ca0e",
   "metadata": {},
   "outputs": [
    {
     "data": {
      "text/plain": [
       "<tf.Tensor: shape=(2, 2), dtype=float32, numpy=\n",
       "array([[ 0.8673508 , -0.75568557],\n",
       "       [-0.6488845 , -0.6146024 ]], dtype=float32)>"
      ]
     },
     "execution_count": 44,
     "metadata": {},
     "output_type": "execute_result"
    }
   ],
   "source": [
    "tf.random.truncated_normal([2,2],mean=0,stddev=1)"
   ]
  },
  {
   "cell_type": "code",
   "execution_count": 48,
   "id": "7b16e93f",
   "metadata": {},
   "outputs": [
    {
     "data": {
      "text/plain": [
       "<tf.Tensor: shape=(2, 2), dtype=float32, numpy=\n",
       "array([[ 0.65392613,  0.7736006 ],\n",
       "       [ 0.76279163, -0.25263834]], dtype=float32)>"
      ]
     },
     "execution_count": 48,
     "metadata": {},
     "output_type": "execute_result"
    }
   ],
   "source": [
    "tf.random.uniform([2,2],minval=-1,maxval=1,dtype=tf.float32)"
   ]
  },
  {
   "cell_type": "code",
   "execution_count": 68,
   "id": "51799679",
   "metadata": {},
   "outputs": [
    {
     "name": "stdout",
     "output_type": "stream",
     "text": [
      "tf.Tensor([5 3 2 0 1 4], shape=(6,), dtype=int32)\n",
      "***********\n",
      "tf.Tensor(\n",
      "[[-0.07235549 -1.6011256  -0.67971355  0.01872582  0.82337886]\n",
      " [-0.2222762  -0.1560052  -0.20132515  0.46740288 -0.56201404]\n",
      " [ 1.0089772   0.55024517  0.5851724  -1.215678   -1.4286907 ]\n",
      " [ 1.0992266   0.46900862 -0.71336395 -1.7362331   0.6162657 ]\n",
      " [-0.49009657 -0.6233612   0.68958783  0.9987042  -0.24734569]\n",
      " [ 1.4856129   1.1292212  -0.19398654  1.0818007   1.1835502 ]\n",
      " [ 0.73727816 -2.0220344  -0.21174483 -0.04763484 -0.38631278]\n",
      " [-1.8223134   1.1020771   0.7990224   1.0856751   0.03798634]\n",
      " [-1.1792742   0.1027391   1.9562665   1.748644   -0.12961541]\n",
      " [-0.37956142 -0.8438501  -0.88148665 -0.93251497 -1.153046  ]], shape=(10, 5), dtype=float32)\n",
      "tf.Tensor(\n",
      "[[ 1.4856129   1.1292212  -0.19398654  1.0818007   1.1835502 ]\n",
      " [ 1.0992266   0.46900862 -0.71336395 -1.7362331   0.6162657 ]\n",
      " [ 1.0089772   0.55024517  0.5851724  -1.215678   -1.4286907 ]\n",
      " [-0.07235549 -1.6011256  -0.67971355  0.01872582  0.82337886]\n",
      " [-0.2222762  -0.1560052  -0.20132515  0.46740288 -0.56201404]\n",
      " [-0.49009657 -0.6233612   0.68958783  0.9987042  -0.24734569]], shape=(6, 5), dtype=float32)\n",
      "***********\n",
      "tf.Tensor([0 0 2 5 9 0 4 2 8 7], shape=(10,), dtype=int32)\n",
      "tf.Tensor([0 5 2 0 0 9], shape=(6,), dtype=int32)\n"
     ]
    }
   ],
   "source": [
    "idx=tf.range(6)\n",
    "idx=tf.random.shuffle(idx)\n",
    "print(idx)\n",
    "\n",
    "a = tf.random.normal([10,5])\n",
    "b = tf.random.uniform([10],maxval=10,dtype=tf.int32)\n",
    "\n",
    "print(\"***********\")\n",
    "print(a)\n",
    "a = tf.gather(a,idx)\n",
    "print(a)\n",
    "print(\"***********\")\n",
    "print(b)\n",
    "b = tf.gather(b,idx)\n",
    "print(b)"
   ]
  },
  {
   "cell_type": "code",
   "execution_count": null,
   "id": "862d24b9",
   "metadata": {},
   "outputs": [],
   "source": []
  }
 ],
 "metadata": {
  "kernelspec": {
   "display_name": "Python [conda env:tensorflow]",
   "language": "python",
   "name": "conda-env-tensorflow-py"
  },
  "language_info": {
   "codemirror_mode": {
    "name": "ipython",
    "version": 3
   },
   "file_extension": ".py",
   "mimetype": "text/x-python",
   "name": "python",
   "nbconvert_exporter": "python",
   "pygments_lexer": "ipython3",
   "version": "3.9.11"
  }
 },
 "nbformat": 4,
 "nbformat_minor": 5
}
