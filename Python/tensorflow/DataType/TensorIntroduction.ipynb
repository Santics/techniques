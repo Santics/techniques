{
 "cells": [
  {
   "cell_type": "code",
   "execution_count": 1,
   "id": "e77ac593",
   "metadata": {},
   "outputs": [],
   "source": [
    "import tensorflow as tf\n",
    "import numpy as np"
   ]
  },
  {
   "cell_type": "code",
   "execution_count": 7,
   "id": "fbe3a027",
   "metadata": {},
   "outputs": [
    {
     "name": "stdout",
     "output_type": "stream",
     "text": [
      "tf.Tensor(1, shape=(), dtype=int32)\n",
      "tf.Tensor(1.0, shape=(), dtype=float32)\n",
      "tf.Tensor([ True False], shape=(2,), dtype=bool)\n",
      "tf.Tensor(b'hello nick', shape=(), dtype=string)\n"
     ]
    }
   ],
   "source": [
    "#list:high cost for images storage\n",
    "#numpy.array\n",
    "#tensorflow.tensor:born for machine learning\n",
    "a = tf.constant(1)\n",
    "b = tf.constant(1.)\n",
    "c = tf.constant([True, False])\n",
    "d = tf.constant('hello nick')\n",
    "print(a)\n",
    "print(b)\n",
    "print(c)\n",
    "print(d)"
   ]
  },
  {
   "cell_type": "code",
   "execution_count": 49,
   "id": "013b19b6",
   "metadata": {},
   "outputs": [
    {
     "name": "stdout",
     "output_type": "stream",
     "text": [
      "/job:localhost/replica:0/task:0/device:CPU:0\n",
      "tf.Tensor(\n",
      "[[ 1.   2.   3.5  4.5  0.   1. ]\n",
      " [ 0.   1.   2.   3.   4.   5. ]\n",
      " [ 0.   1.   4.   9.  16.  25. ]], shape=(3, 6), dtype=float32)\n",
      "[[ 1.   2.   3.5  4.5  0.   1. ]\n",
      " [ 0.   1.   2.   3.   4.   5. ]\n",
      " [ 0.   1.   4.   9.  16.  25. ]]\n",
      "(3, 6)\n",
      "2\n",
      "<dtype: 'float32'>\n"
     ]
    }
   ],
   "source": [
    "#some properties\n",
    "x = [i for i in range(6)]\n",
    "y = [i**2 for i in range(6)]\n",
    "a = tf.constant([[1,2,3.5,4.5,False,True],x,y])\n",
    "\n",
    "print(a.device)\n",
    "print(a)\n",
    "print(a.numpy()) #check data part(transfer to numpy array)\n",
    "print(a.shape)\n",
    "print(a.ndim)\n",
    "print(a.dtype)"
   ]
  },
  {
   "cell_type": "code",
   "execution_count": 59,
   "id": "5e0a0ed2",
   "metadata": {},
   "outputs": [
    {
     "name": "stdout",
     "output_type": "stream",
     "text": [
      "True\n",
      "False\n",
      "True\n",
      "False\n"
     ]
    }
   ],
   "source": [
    "#data type judgement\n",
    "x = [i for i in range(6)]\n",
    "y = [i**2 for i in range(6)]\n",
    "a = tf.constant([[1,2,3.5,4.5,False,True],x,y])\n",
    "\n",
    "#isinstance(*,tf.Tensor)\n",
    "print(isinstance(a,tf.Tensor))\n",
    "print(isinstance(x,tf.Tensor))\n",
    "#tf.is_tensor()\n",
    "print(tf.is_tensor(a))\n",
    "print(tf.is_tensor(x))"
   ]
  },
  {
   "cell_type": "code",
   "execution_count": 112,
   "id": "51ade2e4",
   "metadata": {},
   "outputs": [
    {
     "name": "stdout",
     "output_type": "stream",
     "text": [
      "lta:[0.0, 0.3333333333333333, 1.3333333333333333, 3.0, 5.333333333333333, 8.333333333333334]\n",
      "tf.Tensor([0.         0.33333334 1.3333334  3.         5.3333335  8.333333  ], shape=(6,), dtype=float32)\n",
      "****************\n",
      "npa:[0 1 2 3 4 5]\n",
      "tf.Tensor([0 1 2 3 4 5], shape=(6,), dtype=int32)\n",
      "****************\n",
      "lta:[0.0, 0.3333333333333333, 1.3333333333333333, 3.0, 5.333333333333333, 8.333333333333334]\n",
      "dtype conversion between tensors:tf.Tensor([0 0 1 3 5 8], shape=(6,), dtype=int32)\n"
     ]
    }
   ],
   "source": [
    "#data type conversion\n",
    "#tf.convert_to_tensor(*,dtype=*)\n",
    "lta = [(i**2)/3 for i in range(6)]\n",
    "npa = np.arange(6)\n",
    "ltTOts = tf.convert_to_tensor(lta,dtype = tf.float32)\n",
    "npTOts = tf.convert_to_tensor(npa,dtype=tf.int32)\n",
    "print(\"lta:{0}\".format(lta))\n",
    "print(ltTOts)\n",
    "print(\"****************\")\n",
    "print(\"npa:{0}\".format(npa))\n",
    "print(npTOts)\n",
    "\n",
    "#dtype conversion between tensors\n",
    "print(\"****************\")\n",
    "dtypeConvsTf = tf.cast(ltTOts,dtype=tf.int32)\n",
    "print(\"lta:{0}\".format(lta))\n",
    "print(\"dtype conversion between tensors:\",end=\"\")\n",
    "print(dtypeConvsTf)\n",
    "\n"
   ]
  },
  {
   "cell_type": "code",
   "execution_count": 110,
   "id": "f17a1212",
   "metadata": {},
   "outputs": [
    {
     "name": "stdout",
     "output_type": "stream",
     "text": [
      "<tf.Variable 'Variable:0' shape=(5,) dtype=int32, numpy=array([0, 1, 2, 3, 4])>\n",
      "False\n",
      "True\n",
      "True\n",
      "Variable:0\n",
      "****************\n",
      "input_data_popoEmperor:0\n",
      "True\n"
     ]
    }
   ],
   "source": [
    "#create tensor with differential structures : tf.Variable()\n",
    "a = tf.range(5)\n",
    "#tf.Variable() gives a tensor differential structure \n",
    "b = tf.Variable(a)\n",
    "\n",
    "print(b)\n",
    "print(isinstance(b,tf.Tensor)) #False\n",
    "print(isinstance(b,tf.Variable)) #True\n",
    "print(tf.is_tensor(b)) #True correct answer\n",
    "print(b.name) #Variable:0\n",
    "\n",
    "#assign name while creating variables\n",
    "print(\"****************\")\n",
    "c = tf.Variable(a,name=\"input_data_popoEmperor\")\n",
    "print(c.name)       #simple tensors do not have this attribute\n",
    "print(c.trainable) #simple tensors do not have this attribute"
   ]
  },
  {
   "cell_type": "code",
   "execution_count": 126,
   "id": "5ee0e8aa",
   "metadata": {},
   "outputs": [
    {
     "name": "stdout",
     "output_type": "stream",
     "text": [
      "tf.Tensor([0 1 2 3 4], shape=(5,), dtype=int32)\n",
      "[0 1 2 3 4]\n",
      "****************\n",
      "[1.]\n",
      "1.0\n"
     ]
    }
   ],
   "source": [
    "#tensor-numpy conversion\n",
    "a = tf.range(5)\n",
    "b = a.numpy()\n",
    "print(a)\n",
    "print(b)\n",
    "\n",
    "print(\"****************\")\n",
    "a = tf.ones(1)\n",
    "b = tf.ones([]) #scalar\n",
    "print(a.numpy())\n",
    "print(b.numpy())"
   ]
  }
 ],
 "metadata": {
  "kernelspec": {
   "display_name": "Python [conda env:tensorflow]",
   "language": "python",
   "name": "conda-env-tensorflow-py"
  },
  "language_info": {
   "codemirror_mode": {
    "name": "ipython",
    "version": 3
   },
   "file_extension": ".py",
   "mimetype": "text/x-python",
   "name": "python",
   "nbconvert_exporter": "python",
   "pygments_lexer": "ipython3",
   "version": "3.9.11"
  }
 },
 "nbformat": 4,
 "nbformat_minor": 5
}
